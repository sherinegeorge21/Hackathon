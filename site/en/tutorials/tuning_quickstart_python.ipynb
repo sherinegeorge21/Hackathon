{
  "cells": [
    {
      "cell_type": "markdown",
      "metadata": {
        "id": "Tce3stUlHN0L"
      },
      "source": [
        "##### Copyright 2023 Google LLC."
      ]
    },
    {
      "cell_type": "code",
      "execution_count": null,
      "metadata": {
        "cellView": "form",
        "id": "tuOe1ymfHZPu"
      },
      "outputs": [],
      "source": [
        "#@title Licensed under the Apache License, Version 2.0 (the \"License\");\n",
        "# you may not use this file except in compliance with the License.\n",
        "# You may obtain a copy of the License at\n",
        "#\n",
        "# https://www.apache.org/licenses/LICENSE-2.0\n",
        "#\n",
        "# Unless required by applicable law or agreed to in writing, software\n",
        "# distributed under the License is distributed on an \"AS IS\" BASIS,\n",
        "# WITHOUT WARRANTIES OR CONDITIONS OF ANY KIND, either express or implied.\n",
        "# See the License for the specific language governing permissions and\n",
        "# limitations under the License."
      ]
    },
    {
      "cell_type": "code",
      "source": [],
      "metadata": {
        "id": "A0oRRhAiOpPT"
      },
      "execution_count": null,
      "outputs": []
    },
    {
      "cell_type": "markdown",
      "metadata": {
        "id": "yeadDkMiISin"
      },
      "source": [
        "# PaLM API: Tuning Quickstart with Python"
      ]
    },
    {
      "cell_type": "markdown",
      "metadata": {
        "id": "lEXQ3OwKIa-O"
      },
      "source": [
        "<table class=\"tfo-notebook-buttons\" align=\"left\">\n",
        "  <td>\n",
        "    <a target=\"_blank\" href=\"https://developers.generativeai.google/tutorials/tuning_quickstart_python\"><img src=\"https://developers.generativeai.google/static/site-assets/images/docs/notebook-site-button.png\" height=\"32\" width=\"32\" />View on Generative AI</a>\n",
        "  </td>\n",
        "    <td>\n",
        "    <a target=\"_blank\" href=\"https://colab.research.google.com/github/google/generative-ai-docs/blob/main/site/en/tutorials/tuning_quickstart_python.ipynb\"><img src=\"https://www.tensorflow.org/images/colab_logo_32px.png\" />Run in Google Colab</a>\n",
        "  </td>\n",
        "  <td>\n",
        "    <a target=\"_blank\" href=\"https://github.com/google/generative-ai-docs/blob/main/site/en/tutorials/tuning_quickstart_python.ipynb\"><img src=\"https://www.tensorflow.org/images/GitHub-Mark-32px.png\" />View source on GitHub</a>\n",
        "  </td>\n",
        "    <td>\n",
        "    <a target=\"_blank\" href=\"https://developers.generativeai.google/tutorials/tuning_quickstart_python.ipynb\"><img src=\"https://www.tensorflow.org/images/download_logo_32px.png\" />Download notebook</a>\n",
        "  </td>\n",
        "</table>"
      ]
    },
    {
      "cell_type": "markdown",
      "metadata": {
        "id": "Jp_CKyzxUqx6"
      },
      "source": [
        "In this notebook, you'll learn how to get started with the tuning service using the Python client library for the PaLM API. Here, you'll learn how to tune the text model behind the PaLM API's text generation service."
      ]
    },
    {
      "cell_type": "markdown",
      "metadata": {
        "id": "4JXd-HdCsKdZ"
      },
      "source": [
        "**Note**: At this time, the PaLM API is [only available in certain regions](https://developers.generativeai.google/available_regions)."
      ]
    },
    {
      "cell_type": "markdown",
      "metadata": {
        "id": "sOz_wyZAlCuQ"
      },
      "source": [
        "## Setup"
      ]
    },
    {
      "cell_type": "markdown",
      "metadata": {
        "id": "SWxKvwd-MSIV"
      },
      "source": [
        "### Authenticate"
      ]
    },
    {
      "cell_type": "markdown",
      "metadata": {
        "id": "JjS8Zy1ojIgc"
      },
      "source": [
        "The PaLM API lets you tune models on your own data. Since it's your data and\n",
        "your tuned models this needs stricter access controls than API-Keys can provide.\n",
        "\n",
        "Before you can run this tutorial, you'll need to\n",
        "[setup OAuth for your project](oauth_quickstart.ipynb).\n",
        "\n",
        "If you want to run this notebook in Colab start by uploading your\n",
        "`client_secret*.json` file using the \"File > Upload\" option.\n",
        "\n",
        "<img width=400 src=\"https://developers.generativeai.google/tutorials/images/colab_upload.png\">"
      ]
    },
    {
      "cell_type": "code",
      "execution_count": 65,
      "metadata": {
        "id": "JjS834433jIgc",
        "outputId": "78712f52-6add-4621-aece-07f8d65a537f",
        "colab": {
          "base_uri": "https://localhost:8080/"
        }
      },
      "outputs": [
        {
          "output_type": "stream",
          "name": "stdout",
          "text": [
            "cp: 'service.json' and 'service.json' are the same file\n",
            "service.json\n"
          ]
        }
      ],
      "source": [
        "!cp service*.json service.json\n",
        "!ls service.json"
      ]
    },
    {
      "cell_type": "markdown",
      "metadata": {
        "id": "I6zTC-3mJ0-2"
      },
      "source": [
        "This gcloud command turns the `client_secret.json` file into credentials that can be used to authenticate with the service.\n",
        "\n",
        "Important: If you're running this in Colab, **don't just click the link it prints**. That will fail. Follow the instriuctions and copy the `gcloud` command it prints to your local machine and run it there, then paste the output from your local machine back here."
      ]
    },
    {
      "cell_type": "code",
      "execution_count": 66,
      "metadata": {
        "id": "9FUwyB_MJ0-2",
        "outputId": "a81dfcea-dcb6-4cf9-845a-f493ed585ffe",
        "colab": {
          "base_uri": "https://localhost:8080/"
        }
      },
      "outputs": [
        {
          "output_type": "stream",
          "name": "stdout",
          "text": [
            "You are authorizing client libraries without access to a web browser. Please run the following command on a machine with a web browser and copy its output back here. Make sure the installed gcloud version is 372.0.0 or newer.\n",
            "\n",
            "gcloud auth application-default login --remote-bootstrap=\"https://accounts.google.com/o/oauth2/auth?response_type=code&client_id=350971879985-t5v9v5ssveqejifu3fm8921stc2n08ca.apps.googleusercontent.com&scope=https%3A%2F%2Fwww.googleapis.com%2Fauth%2Fcloud-platform+https%3A%2F%2Fwww.googleapis.com%2Fauth%2Fgenerative-language.tuning&state=bj23DNorKUDVwj6awWshlZkyZ7i9KN&access_type=offline&code_challenge=ifPfyylW_34TnU7IVR6o3kHE_8mPKjgQIL90HeN0mtA&code_challenge_method=S256&token_usage=remote\"\n",
            "\n",
            "\n",
            "Enter the output of the above command: https://localhost:8085/?state=bj23DNorKUDVwj6awWshlZkyZ7i9KN&code=4/0AfJohXm2sPJBr5RWn7ZwmPtUEtaZMYrXO2sdj8AsNBKGk0vAXKUsQksShDIhbU-hYg57Sg&scope=https://www.googleapis.com/auth/cloud-platform%20https://www.googleapis.com/auth/generative-language.tuning\n",
            "\n",
            "Credentials saved to file: [/content/.config/application_default_credentials.json]\n",
            "\n",
            "These credentials will be used by any library that requests Application Default Credentials (ADC).\n"
          ]
        }
      ],
      "source": [
        "import os\n",
        "if 'COLAB_RELEASE_TAG' in os.environ:\n",
        "  # Use `--no-browser` in colab\n",
        "  !gcloud auth application-default login --no-browser --client-id-file /content/service.json --scopes='https://www.googleapis.com/auth/cloud-platform,https://www.googleapis.com/auth/generative-language.tuning'\n",
        "else:\n",
        "  !gcloud auth application-default login --client-id-file /content/service.json --scopes='https://www.googleapis.com/auth/cloud-platform,https://www.googleapis.com/auth/generative-language.tuning'"
      ]
    },
    {
      "cell_type": "markdown",
      "metadata": {
        "id": "aHimx8NGMWDj"
      },
      "source": [
        "### Install the client library"
      ]
    },
    {
      "cell_type": "code",
      "execution_count": 5,
      "metadata": {
        "id": "cbcf72bcb56d",
        "outputId": "9aee6f19-10d8-45d3-98c6-c708a14976ae",
        "colab": {
          "base_uri": "https://localhost:8080/"
        }
      },
      "outputs": [
        {
          "output_type": "stream",
          "name": "stdout",
          "text": [
            "\u001b[?25l     \u001b[90m━━━━━━━━━━━━━━━━━━━━━━━━━━━━━━━━━━━━━━━━\u001b[0m \u001b[32m0.0/133.2 kB\u001b[0m \u001b[31m?\u001b[0m eta \u001b[36m-:--:--\u001b[0m\r\u001b[2K     \u001b[91m━━━━━━━━━━━━━━━━━━━━━\u001b[0m\u001b[91m╸\u001b[0m\u001b[90m━━━━━━━━━━━━━━━━━━\u001b[0m \u001b[32m71.7/133.2 kB\u001b[0m \u001b[31m2.0 MB/s\u001b[0m eta \u001b[36m0:00:01\u001b[0m\r\u001b[2K     \u001b[90m━━━━━━━━━━━━━━━━━━━━━━━━━━━━━━━━━━━━━━━━\u001b[0m \u001b[32m133.2/133.2 kB\u001b[0m \u001b[31m2.4 MB/s\u001b[0m eta \u001b[36m0:00:00\u001b[0m\n",
            "\u001b[?25h\u001b[?25l     \u001b[90m━━━━━━━━━━━━━━━━━━━━━━━━━━━━━━━━━━━━━━━━\u001b[0m \u001b[32m0.0/267.9 kB\u001b[0m \u001b[31m?\u001b[0m eta \u001b[36m-:--:--\u001b[0m\r\u001b[2K     \u001b[90m━━━━━━━━━━━━━━━━━━━━━━━━━━━━━━━━━━━━━━━━\u001b[0m \u001b[32m267.9/267.9 kB\u001b[0m \u001b[31m13.2 MB/s\u001b[0m eta \u001b[36m0:00:00\u001b[0m\n",
            "\u001b[?25h"
          ]
        }
      ],
      "source": [
        "!pip install -q google-generativeai"
      ]
    },
    {
      "cell_type": "markdown",
      "metadata": {
        "id": "jdIYSl2kN0cq"
      },
      "source": [
        "### Import libraries"
      ]
    },
    {
      "cell_type": "code",
      "execution_count": 67,
      "metadata": {
        "id": "8enrppafJPCX"
      },
      "outputs": [],
      "source": [
        "import google.generativeai as palm\n"
      ]
    },
    {
      "cell_type": "markdown",
      "metadata": {
        "id": "P-MYZECwlRCq"
      },
      "source": [
        "You can check you existing tuned models with the `palm.list_tuned_model` method."
      ]
    },
    {
      "cell_type": "code",
      "execution_count": 68,
      "metadata": {
        "id": "XyWzoYFxU4r6",
        "outputId": "feab3caf-b4d7-469b-d71c-cb9aaf4189fe",
        "colab": {
          "base_uri": "https://localhost:8080/"
        }
      },
      "outputs": [
        {
          "output_type": "stream",
          "name": "stdout",
          "text": [
            "tunedModels/teppertrainedllm-2csdufxp0ssa\n",
            "tunedModels/tepper-6up2t4lcw5nb\n",
            "tunedModels/generate-num-610\n"
          ]
        }
      ],
      "source": [
        "for i, m in zip(range(5), palm.list_tuned_models()):\n",
        "  print(m.name)"
      ]
    },
    {
      "cell_type": "code",
      "source": [
        "import base64\n",
        "import json\n",
        "import pprint"
      ],
      "metadata": {
        "id": "11l_ccIWoUD2"
      },
      "execution_count": 69,
      "outputs": []
    },
    {
      "cell_type": "code",
      "source": [
        "# These parameters for the model call can be set by URL parameters.\n",
        "model = 'tunedModels/tepper-6up2t4lcw5nb' # @param {isTemplate: true}\n",
        "temperature = 0.2 # @param {isTemplate: true}\n",
        "candidate_count = 1 # @param {isTemplate: true}\n",
        "top_k = 40 # @param {isTemplate: true}\n",
        "top_p = 0.95 # @param {isTemplate: true}\n",
        "max_output_tokens = 1024 # @param {isTemplate: true}\n",
        "text_b64 = '' # @param {isTemplate: true}\n",
        "stop_sequences_b64 = 'W10=' # @param {isTemplate: true}\n",
        "safety_settings_b64 = 'W3siY2F0ZWdvcnkiOiJIQVJNX0NBVEVHT1JZX0RFUk9HQVRPUlkiLCJ0aHJlc2hvbGQiOjF9LHsiY2F0ZWdvcnkiOiJIQVJNX0NBVEVHT1JZX1RPWElDSVRZIiwidGhyZXNob2xkIjoxfSx7ImNhdGVnb3J5IjoiSEFSTV9DQVRFR09SWV9WSU9MRU5DRSIsInRocmVzaG9sZCI6Mn0seyJjYXRlZ29yeSI6IkhBUk1fQ0FURUdPUllfU0VYVUFMIiwidGhyZXNob2xkIjoyfSx7ImNhdGVnb3J5IjoiSEFSTV9DQVRFR09SWV9NRURJQ0FMIiwidGhyZXNob2xkIjoyfSx7ImNhdGVnb3J5IjoiSEFSTV9DQVRFR09SWV9EQU5HRVJPVVMiLCJ0aHJlc2hvbGQiOjJ9XQ==' # @param {isTemplate: true}\n",
        "\n",
        "# Convert the prompt text param from a bae64 string to a string.\n",
        "text = base64.b64decode(text_b64).decode(\"utf-8\")\n",
        "\n",
        "# Convert the stop_sequences and safety_settings params from base64 strings to lists.\n",
        "stop_sequences = json.loads(base64.b64decode(stop_sequences_b64).decode(\"utf-8\"))\n",
        "safety_settings = json.loads(base64.b64decode(safety_settings_b64).decode(\"utf-8\"))\n",
        "\n",
        "defaults = {\n",
        "  'model': model,\n",
        "  'temperature': temperature,\n",
        "  'candidate_count': candidate_count,\n",
        "  'top_k': top_k,\n",
        "  'top_p': top_p,\n",
        "  'max_output_tokens': max_output_tokens,\n",
        "  'stop_sequences': stop_sequences,\n",
        "  'safety_settings': safety_settings,\n",
        "}\n",
        "\n",
        "# Show what will be sent with the API call.\n",
        "pprint.pprint(defaults | {'prompt': text})"
      ],
      "metadata": {
        "id": "8qOS70b3oQtF",
        "outputId": "fa8f4631-d19e-4cda-f079-650f3b651a4c",
        "colab": {
          "base_uri": "https://localhost:8080/"
        }
      },
      "execution_count": 87,
      "outputs": [
        {
          "output_type": "stream",
          "name": "stdout",
          "text": [
            "{'candidate_count': 1,\n",
            " 'max_output_tokens': 1024,\n",
            " 'model': 'tunedModels/tepper-6up2t4lcw5nb',\n",
            " 'prompt': '',\n",
            " 'safety_settings': [{'category': 'HARM_CATEGORY_DEROGATORY', 'threshold': 1},\n",
            "                     {'category': 'HARM_CATEGORY_TOXICITY', 'threshold': 1},\n",
            "                     {'category': 'HARM_CATEGORY_VIOLENCE', 'threshold': 2},\n",
            "                     {'category': 'HARM_CATEGORY_SEXUAL', 'threshold': 2},\n",
            "                     {'category': 'HARM_CATEGORY_MEDICAL', 'threshold': 2},\n",
            "                     {'category': 'HARM_CATEGORY_DANGEROUS', 'threshold': 2}],\n",
            " 'stop_sequences': [],\n",
            " 'temperature': 0.2,\n",
            " 'top_k': 40,\n",
            " 'top_p': 0.95}\n"
          ]
        }
      ]
    },
    {
      "cell_type": "code",
      "source": [
        "# Call the model and print the response.\n",
        "response = palm.generate_text(\n",
        "  **defaults,\n",
        "  prompt=\"What is Tepper School of Business known for?\"\n",
        ")\n",
        "print(response.candidates[0]['output'])"
      ],
      "metadata": {
        "id": "7-dO8DonoiiY",
        "outputId": "67720c7f-83c6-489b-8783-67899fea58b2",
        "colab": {
          "base_uri": "https://localhost:8080/"
        }
      },
      "execution_count": 121,
      "outputs": [
        {
          "output_type": "stream",
          "name": "stdout",
          "text": [
            "Tepper School of Business is known for its strong focus on ethics and social responsibility.\n"
          ]
        }
      ]
    },
    {
      "cell_type": "markdown",
      "metadata": {
        "id": "BhkXRzciv3Dp"
      },
      "source": [
        "## Create tuned model"
      ]
    },
    {
      "cell_type": "markdown",
      "metadata": {
        "id": "OO8VZYAinLWc"
      },
      "source": [
        "To create a tuned model, you need to pass your dataset to the model in the `palm.create_tuned_model` method. You can do this be directly defining the input and output values in the call or importing from a file into a dataframe to pass to the method.\n",
        "\n",
        "For this example, you will tune a model to generate the next number in the sequence. For example, if the input is `1`, the model should output `2`. If the input is `one hundred`, the output should be `one hundred one`."
      ]
    },
    {
      "cell_type": "code",
      "execution_count": 90,
      "metadata": {
        "id": "w-EBSe9wTbLB",
        "outputId": "32235bd6-2510-4f7e-d9ae-729cf4c43851",
        "colab": {
          "base_uri": "https://localhost:8080/",
          "height": 36
        }
      },
      "outputs": [
        {
          "output_type": "execute_result",
          "data": {
            "text/plain": [
              "'models/text-bison-001'"
            ],
            "application/vnd.google.colaboratory.intrinsic+json": {
              "type": "string"
            }
          },
          "metadata": {},
          "execution_count": 90
        }
      ],
      "source": [
        "base_model = [\n",
        "    m for m in palm.list_models()\n",
        "    if \"createTunedTextModel\" in m.supported_generation_methods][0]\n",
        "base_model.name"
      ]
    },
    {
      "cell_type": "code",
      "execution_count": 92,
      "metadata": {
        "id": "baHjHh1oTTTC"
      },
      "outputs": [],
      "source": [
        "import random\n",
        "\n",
        "name = f'generate-num-{random.randint(0,10000)}'\n",
        "operation = palm.create_tuned_model(\n",
        "    # You can use a tuned model here too. Set `source_model=\"tunedModels/...\"`\n",
        "    source_model=\"tunedModels/tepper-6up2t4lcw5nb\",\n",
        "    training_data=[{'text_input': \"Who is teaching Business Communication for Analytical Decision Making?\",\n",
        "    'output': \"Beth Walter\"},\n",
        "{\n",
        "    'text_input': \"Who is Beth Walter?\",\n",
        "    'output': \"Beth Walter is Assistant Teaching Professor of Business Communication at Tepper School of Business, Carnegie Mellon University (CMU). She teaches undergraduate and graduate-level courses in business communication, presentation skills, professional writing, data communication, executive presence, and interpersonal managerial communication.\"\n",
        "},\n",
        "{\n",
        "    'text_input': \"What is the academic background of Beth Walter?\",\n",
        "    'output': \"Duquesne University - Ph D (Communication and Rhetorical Studies) - 2014\\nDuquesne University - MA (Philosophy) - 2004\\nCarlow University - BA (English Literature and Philosophy) - 1996\"\n",
        "},\n",
        "{\n",
        "    'text_input': \"What are Beth Walter's research interests?\",\n",
        "    'output': \"Her most recent research focuses on pedagogical methods for making the contexts and conventions of business writing and their differences more explicit and accessible for business students. Beth also researches effective strategies for corporate communication about social responsibility initiatives.\"\n",
        "},\n",
        "{\n",
        "    'text_input': \"What is Beth Walter's email address?\",\n",
        "    'output': \"bwalter@andrew.cmu.edu\"\n",
        "},\n",
        "{\n",
        "    'text_input': \"Who is teaching Modern Data Management?\",\n",
        "    'output': \"Bob Monroe\"\n",
        "},\n",
        "{\n",
        "    'text_input': \"Who is Bob Monroe?\",\n",
        "    'output': \"Dr. Robert T. Monroe is a Teaching Professor of Business Technologies in the Tepper School of Business at Carnegie Mellon University. Amongst other interests, his work explores ways that companies use AI and Machine Learning to do business better, faster, and cheaper.\"\n",
        "},\n",
        "{\n",
        "    'text_input': \"What is the academic background of Bob Monroe?\",\n",
        "    'output': \"Carnegie Mellon University - Ph D (Computer Science) - 1999\\nCarnegie Mellon University - MS (Computer Science) - 1995\\nUniversity of Michigan - BS (Computer Science and Philosophy) - 1993\"\n",
        "},\n",
        "{\n",
        "    'text_input': \"What are Bob Monroe's research interests?\",\n",
        "    'output': \"His research interests span a broad array of topics and disciplines. He finds that many of the most interesting research questions are found in the gaps between well-established research areas.\"\n",
        "},\n",
        "{\n",
        "    'text_input': \"What is Bob Monroe's email address?\",\n",
        "    'output': \"rm74@andrew.cmu.edu\"\n",
        "},\n",
        "{\n",
        "    'text_input': \"Who is teaching Optimization for Prescriptive Analytics?\",\n",
        "    'output': \"Andrew A Li\"\n",
        "},\n",
        "{\n",
        "    'text_input': \"Who is Andrew A Li?\",\n",
        "    'output': \"He is the Assistant Professor of Operations Research at CMU Tepper. His research interests are in statistics, optimization, and machine learning, with applications to operations management and medicine. He is currently funded by an NSF Career Award.\"\n",
        "},\n",
        "{\n",
        "    'text_input': \"What is the academic background of Andrew A Li?\",\n",
        "    'output': \"Massachusetts Institute of Technology - Ph D (Operations Research) - 2018\\nColumbia University - BS (Operations Research/Applied Mathematics Minor) - 2012\"\n",
        "},\n",
        "{\n",
        "    'text_input': \"What are Andrew Li's research interests?\",\n",
        "    'output': \"Li’s research interests include statistics, optimization and machine learning, with applications to operations management and medicine.\"\n",
        "},\n",
        "{\n",
        "    'text_input': \"What is Andrew Li's email address?\",\n",
        "    'output': \"aali1@cmu.edu\"\n",
        "},\n",
        "{\n",
        "    'text_input': \"Who is teaching Statistical Foundations of Business Analytics?\",\n",
        "    'output': \"Mattia Ciollaro\"\n",
        "},\n",
        "{\n",
        "    'text_input': \"Who is Mattia Ciollaro?\",\n",
        "    'output': \"Mattia is a Teaching Professor at Carnegie Mellon University. Prior to Carnegie Mellon University, he was a Consulting Professor at Duke University. Every year, Mattia helps hundreds of students learn how to solve real-world problems using Data Science and Machine Learning. Mattia also worked as a technical leader at Amazon Alexa and PayPal, where he contributed to the design and implementation of both experimental and production-grade Machine Learning and Artificial Intelligence systems.\"\n",
        "},\n",
        "{\n",
        "    'text_input': \"What is the academic background of Mattia Ciollaro?\",\n",
        "    'output': \"Carnegie Mellon University - Ph D (Statistics) - 2016\\nCarnegie Mellon University - MS (Statistics) - 2013\\nCollegio Carlo Alberto - MA (Statistics and Applied Mathematics (with distinction) - 2012\\nUniversità degli Studi di Torino - MA (Statistics (with distinction) - 2012\\nCollegio Carlo Alberto - Allievo Junior Diploma (Statistics and Applied Mathematics) - 2010\\nUniversità degli Studi di Torino - BA (Statistics) - 2010\"\n",
        "},\n",
        "\n",
        "{\n",
        "    'text_input': \"Who is the associate dean of master programs?\",\n",
        "    'output': \"Kate Barraclough\"\n",
        "},\n",
        "{\n",
        "    'text_input': \"Who is Kate Barraclough?\",\n",
        "    'output': \"She has 10+ years of progressive experience as an educator and a leader of educational programs. She currently oversees Carnegie Mellon’s MBA programs (full-time, part-time and online). She teaches graduate business classes in Derivative Securities, Debt Markets, Financial Modeling, and Introductory Finance (online).\"\n",
        "},\n",
        "{\n",
        "    'text_input': \"What is the academic background of Kate Barraclough?\",\n",
        "    'output': \"Australian National University - Ph D (Finance) - 2007\\nAustralian National University - BA (Commerce) - 2000\\nAustralian National University - BA (Economics) - 2000\"\n",
        "},\n",
        "{\n",
        "    'text_input': \"What is Kate Barraclough's email address?\",\n",
        "    'output': \"kbarracl@andrew.cmu.edu\"\n",
        "},\n",
        "{\n",
        "    'text_input': \"Who is the assistant Dean, Tepper Masters Programs?\",\n",
        "    'output': \"C. Tad Brinkerhoff\"\n",
        "},\n",
        "{\n",
        "    'text_input': \"Who is C. Tad Brinkerhoff?\",\n",
        "    'output': \"He is the Assistant Dean of Masters Programs at the Tepper School of Business at Carnegie Mellon University in Pittsburgh, Pennsylvania. Previous experience includes 20+ years of extensive leadership and administrative experience in MBA program management, education technology, executive education, international initiatives and programs, international and domestic student recruiting, corporate development, career development, and student services.\"\n",
        "},\n",
        "{\n",
        "    'text_input': \"What is the academic background of C. Tad Brinkerhoff?\",\n",
        "    'output': \"Southern Utah University - BA (Languages, Chemistry) - 1989; Brigham Young University - MBA (strategy, International Business) - 1993; Brigham Young University- Ph D (higher Education Administration) - 2012\"\n",
        "},\n",
        "{\n",
        "    'text_input': \"What is C. Tad Brinkerhoff's email address?\",\n",
        "    'output': \"tbrinker@andrew.cmu.edu\"\n",
        "}],\n",
        "    id = name,\n",
        "    epoch_count = 100,\n",
        "    batch_size=4,\n",
        "    learning_rate=0.001,\n",
        ")"
      ]
    },
    {
      "cell_type": "markdown",
      "metadata": {
        "id": "-As7ayWDK1w8"
      },
      "source": [
        "Your tuned model is immediately added to the list of tuned models, but its status is set to \"creating\" while the model is tuned."
      ]
    },
    {
      "cell_type": "code",
      "execution_count": 93,
      "metadata": {
        "id": "su64KgY4Uztj",
        "outputId": "6b254b84-ef57-4696-c4c6-e53678c78f6f",
        "colab": {
          "base_uri": "https://localhost:8080/"
        }
      },
      "outputs": [
        {
          "output_type": "execute_result",
          "data": {
            "text/plain": [
              "TunedModel(name='tunedModels/tepper-6up2t4lcw5nb',\n",
              "           source_model='models/text-bison-001',\n",
              "           base_model='models/text-bison-001',\n",
              "           display_name='tepper',\n",
              "           description=('{\"description\":\"\",\"exampleInput\":\"input: Who is teaching Business '\n",
              "                        'Communication for Analytical Decision Making\",\"exampleOutput\":\"output: Beth '\n",
              "                        'Walter\",\"datasourceUrl\":\"prompts/1rLXd3AXCBub6ix1SJ8ykLHXAcWjSXuB5\",\"showedTuningComplete\":false,\"rowsCount\":115}'),\n",
              "           temperature=0.7,\n",
              "           top_p=0.95,\n",
              "           top_k=40,\n",
              "           state=<State.ACTIVE: 2>,\n",
              "           create_time=datetime.datetime(2023, 11, 2, 22, 19, 47, 256359, tzinfo=datetime.timezone.utc),\n",
              "           update_time=datetime.datetime(2023, 11, 2, 22, 23, 1, 489134, tzinfo=datetime.timezone.utc),\n",
              "           tuning_task=TuningTask(start_time=datetime.datetime(2023, 11, 2, 22, 19, 48, 55695, tzinfo=datetime.timezone.utc),\n",
              "                                  complete_time=datetime.datetime(2023, 11, 2, 22, 23, 1, 489134, tzinfo=datetime.timezone.utc),\n",
              "                                  snapshots=[...],\n",
              "                                  hyperparameters=Hyperparameters(epoch_count=10,\n",
              "                                                                  batch_size=16,\n",
              "                                                                  learning_rate=0.02)))"
            ]
          },
          "metadata": {},
          "execution_count": 93
        }
      ],
      "source": [
        "model = palm.get_tuned_model(f'tunedModels/tepper-6up2t4lcw5nb')\n",
        "\n",
        "model"
      ]
    },
    {
      "cell_type": "code",
      "execution_count": 94,
      "metadata": {
        "id": "EUodUwZkKPi-",
        "outputId": "408848ab-2c35-434f-de46-012922894a4f",
        "colab": {
          "base_uri": "https://localhost:8080/"
        }
      },
      "outputs": [
        {
          "output_type": "execute_result",
          "data": {
            "text/plain": [
              "<State.ACTIVE: 2>"
            ]
          },
          "metadata": {},
          "execution_count": 94
        }
      ],
      "source": [
        "model.state"
      ]
    },
    {
      "cell_type": "markdown",
      "metadata": {
        "id": "Pi8X5vkQv-3_"
      },
      "source": [
        "### Check tuning progress"
      ]
    },
    {
      "cell_type": "markdown",
      "metadata": {
        "id": "tWI-vAh4LJIz"
      },
      "source": [
        "Use `metadata` to check the state:"
      ]
    },
    {
      "cell_type": "code",
      "execution_count": 95,
      "metadata": {
        "id": "g08vqtxYLMxT",
        "outputId": "3fe7772e-77ca-402a-c6c6-00ce3abd7a9b",
        "colab": {
          "base_uri": "https://localhost:8080/"
        }
      },
      "outputs": [
        {
          "output_type": "execute_result",
          "data": {
            "text/plain": [
              "total_steps: 675\n",
              "tuned_model: \"tunedModels/generate-num-8962\""
            ]
          },
          "metadata": {},
          "execution_count": 95
        }
      ],
      "source": [
        "operation.metadata"
      ]
    },
    {
      "cell_type": "markdown",
      "metadata": {
        "id": "3lQ6gSMgK-kz"
      },
      "source": [
        "Wait for the training to finish using `operation.result()`, or `operation.wait_bar()`"
      ]
    },
    {
      "cell_type": "code",
      "execution_count": 96,
      "metadata": {
        "id": "SOUowIv1HgSE",
        "outputId": "5338c77f-63b2-49e8-b654-a1c6aab1d273",
        "colab": {
          "base_uri": "https://localhost:8080/",
          "height": 49,
          "referenced_widgets": [
            "0c6be849f1de4e639056f4780fa74a24",
            "7b7ada733a864987a82809f0eb316699",
            "7f5d83f9f2aa49f79c35af9a1e0fd688",
            "d96fd494eff4429583cf5f19d55e1647",
            "5652d6892ec546049da556355c3f2ae6",
            "e783638cd63548d3bca08385aab242fc",
            "89b1d1938f934c0cabe39720ecd321bf",
            "288511cf102541088e69139b6257d61b",
            "9b881256deea4fa9be64b8cf927456f2",
            "a78976263621412a9e61dec111abeea7",
            "e327d8fdceba440dafdc51f9950ca661"
          ]
        }
      },
      "outputs": [
        {
          "output_type": "display_data",
          "data": {
            "text/plain": [
              "  0%|          | 0/675 [00:00<?, ?it/s]"
            ],
            "application/vnd.jupyter.widget-view+json": {
              "version_major": 2,
              "version_minor": 0,
              "model_id": "0c6be849f1de4e639056f4780fa74a24"
            }
          },
          "metadata": {}
        }
      ],
      "source": [
        "import time\n",
        "\n",
        "for status in operation.wait_bar():\n",
        "  time.sleep(30)"
      ]
    },
    {
      "cell_type": "markdown",
      "metadata": {
        "id": "4cg868HzqOx5"
      },
      "source": [
        "You can cancel your tuning job any time using the `cancel()` method. Uncomment the line below and run the code cell to cancel your job before it finishes."
      ]
    },
    {
      "cell_type": "code",
      "execution_count": null,
      "metadata": {
        "id": "oQuJ70_hqJi9"
      },
      "outputs": [],
      "source": [
        "# operation.cancel()"
      ]
    },
    {
      "cell_type": "markdown",
      "metadata": {
        "id": "lqiL0TWDqAPn"
      },
      "source": [
        "Once the tuning is complete, you can view the loss curve from the tuning results. The [loss curve](https://generativeai.devsite.corp.google.com/guide/model_tuning_guidance#recommended_configurations) shows how much the model's predictions deviate from the ideal outputs."
      ]
    },
    {
      "cell_type": "code",
      "execution_count": 97,
      "metadata": {
        "id": "bIiG57xWLhP7",
        "outputId": "63d0a6a9-6cac-4b73-9f81-cee3d88b7d3c",
        "colab": {
          "base_uri": "https://localhost:8080/",
          "height": 466
        }
      },
      "outputs": [
        {
          "output_type": "execute_result",
          "data": {
            "text/plain": [
              "<Axes: xlabel='epoch', ylabel='mean_loss'>"
            ]
          },
          "metadata": {},
          "execution_count": 97
        },
        {
          "output_type": "display_data",
          "data": {
            "text/plain": [
              "<Figure size 640x480 with 1 Axes>"
            ],
            "image/png": "[encoded data removed]"
          },
          "metadata": {}
        }
      ],
      "source": [
        "import pandas as pd\n",
        "import seaborn as sns\n",
        "\n",
        "model = operation.result()\n",
        "\n",
        "snapshots = pd.DataFrame(model.tuning_task.snapshots)\n",
        "\n",
        "sns.lineplot(data=snapshots, x = 'epoch', y='mean_loss')\n"
      ]
    },
    {
      "cell_type": "markdown",
      "metadata": {
        "id": "rkoQTXb1vSBC"
      },
      "source": [
        "## Evaluate your model\n",
        "\n",
        "You can use the `palm.generate_text` method and specify the name of your model to test your model performance."
      ]
    },
    {
      "cell_type": "code",
      "execution_count": 102,
      "metadata": {
        "id": "zO0YcuSyxydZ",
        "outputId": "2c76d806-d99d-4f73-cd89-1089ab7ceb97",
        "colab": {
          "base_uri": "https://localhost:8080/",
          "height": 36
        }
      },
      "outputs": [
        {
          "output_type": "execute_result",
          "data": {
            "text/plain": [
              "'Answer: The instructor for Data Analytics in Finance is Zeigham Khokher.'"
            ],
            "application/vnd.google.colaboratory.intrinsic+json": {
              "type": "string"
            }
          },
          "metadata": {},
          "execution_count": 102
        }
      ],
      "source": [
        "completion = palm.generate_text(model=f'tunedModels/tepper-6up2t4lcw5nb',\n",
        "                                prompt='Who is the instructor for Data Analytics in Finance?')\n",
        "completion.result"
      ]
    },
    {
      "cell_type": "code",
      "execution_count": 111,
      "metadata": {
        "id": "YSNB2zjTx5SZ",
        "outputId": "173e4043-65f2-4567-9b8b-b37b61f442a9",
        "colab": {
          "base_uri": "https://localhost:8080/",
          "height": 36
        }
      },
      "outputs": [
        {
          "output_type": "execute_result",
          "data": {
            "text/plain": [
              "'Answer: The lecture for Ethics & AI is from 4 PM to 5:45 PM.'"
            ],
            "application/vnd.google.colaboratory.intrinsic+json": {
              "type": "string"
            }
          },
          "metadata": {},
          "execution_count": 111
        }
      ],
      "source": [
        "completion = palm.generate_text(model=f'tunedModels/tepper-6up2t4lcw5nb',\n",
        "                                prompt='What time does the Ethics & AI lecture take place?')\n",
        "completion.result"
      ]
    },
    {
      "cell_type": "code",
      "execution_count": 112,
      "metadata": {
        "id": "Y2YVO-m0Ut9H",
        "outputId": "70f31315-a0ea-4d31-bf80-e3dddd56a74d",
        "colab": {
          "base_uri": "https://localhost:8080/",
          "height": 36
        }
      },
      "outputs": [
        {
          "output_type": "execute_result",
          "data": {
            "text/plain": [
              "'The instructor for Ethics & AI is Derek Leben.'"
            ],
            "application/vnd.google.colaboratory.intrinsic+json": {
              "type": "string"
            }
          },
          "metadata": {},
          "execution_count": 112
        }
      ],
      "source": [
        "completion = palm.generate_text(model=f'tunedModels/tepper-6up2t4lcw5nb',\n",
        "                                prompt='Who is the instructor for Ethics & AI?')\n",
        "completion.result"
      ]
    },
    {
      "cell_type": "markdown",
      "metadata": {
        "id": "nmuQCbTYwIOx"
      },
      "source": [
        "## Update the description\n",
        "\n",
        "You can update the description of your tuned model any time using the `palm.update_tuned_model` method."
      ]
    },
    {
      "cell_type": "code",
      "execution_count": 113,
      "metadata": {
        "id": "9gAVuXT_wG3x",
        "outputId": "cd1cd24b-e798-4c70-a49c-9f460e30eca9",
        "colab": {
          "base_uri": "https://localhost:8080/"
        }
      },
      "outputs": [
        {
          "output_type": "execute_result",
          "data": {
            "text/plain": [
              "TunedModel(name='',\n",
              "           source_model=None,\n",
              "           base_model=None,\n",
              "           display_name='',\n",
              "           description='This is the model tuned for Tepper School',\n",
              "           temperature=None,\n",
              "           top_p=None,\n",
              "           top_k=None,\n",
              "           state=<State.STATE_UNSPECIFIED: 0>,\n",
              "           create_time=None,\n",
              "           update_time=None,\n",
              "           tuning_task=None)"
            ]
          },
          "metadata": {},
          "execution_count": 113
        }
      ],
      "source": [
        "palm.update_tuned_model(f'tunedModels/tepper-6up2t4lcw5nb', {\"description\":\"This is the model tuned for Tepper School\"})"
      ]
    },
    {
      "cell_type": "code",
      "execution_count": 114,
      "metadata": {
        "id": "d-c3YerBxVYs",
        "outputId": "c0feb7ba-f3d8-4317-bb8b-075222fc16e3",
        "colab": {
          "base_uri": "https://localhost:8080/"
        }
      },
      "outputs": [
        {
          "output_type": "execute_result",
          "data": {
            "text/plain": [
              "TunedModel(name='tunedModels/tepper-6up2t4lcw5nb',\n",
              "           source_model='models/text-bison-001',\n",
              "           base_model='models/text-bison-001',\n",
              "           display_name='tepper',\n",
              "           description='This is the model tuned for Tepper School',\n",
              "           temperature=0.7,\n",
              "           top_p=0.95,\n",
              "           top_k=40,\n",
              "           state=<State.ACTIVE: 2>,\n",
              "           create_time=datetime.datetime(2023, 11, 2, 22, 19, 47, 256359, tzinfo=datetime.timezone.utc),\n",
              "           update_time=datetime.datetime(2023, 11, 2, 22, 23, 1, 489134, tzinfo=datetime.timezone.utc),\n",
              "           tuning_task=TuningTask(start_time=datetime.datetime(2023, 11, 2, 22, 19, 48, 55695, tzinfo=datetime.timezone.utc),\n",
              "                                  complete_time=datetime.datetime(2023, 11, 2, 22, 23, 1, 489134, tzinfo=datetime.timezone.utc),\n",
              "                                  snapshots=[...],\n",
              "                                  hyperparameters=Hyperparameters(epoch_count=10,\n",
              "                                                                  batch_size=16,\n",
              "                                                                  learning_rate=0.02)))"
            ]
          },
          "metadata": {},
          "execution_count": 114
        }
      ],
      "source": [
        "model = palm.get_tuned_model(f'tunedModels/tepper-6up2t4lcw5nb')\n",
        "\n",
        "model"
      ]
    },
    {
      "cell_type": "code",
      "execution_count": 115,
      "metadata": {
        "id": "G9M2pb1_xZQH",
        "outputId": "973fb6cb-8118-4b71-c733-495d500d47d1",
        "colab": {
          "base_uri": "https://localhost:8080/",
          "height": 36
        }
      },
      "outputs": [
        {
          "output_type": "execute_result",
          "data": {
            "text/plain": [
              "'This is the model tuned for Tepper School'"
            ],
            "application/vnd.google.colaboratory.intrinsic+json": {
              "type": "string"
            }
          },
          "metadata": {},
          "execution_count": 115
        }
      ],
      "source": [
        "model.description"
      ]
    },
    {
      "cell_type": "markdown",
      "metadata": {
        "id": "i_TpwvBB4bQ7"
      },
      "source": [
        "## Delete the model\n",
        "\n",
        "You can clean up your tuned model list by deleting models you no longer need. Use the `palm.delete_tuned_model` method to delete a model. If you canceled any tuning jobs, you may want to delete those as their performance may be unpredictable."
      ]
    },
    {
      "cell_type": "code",
      "execution_count": null,
      "metadata": {
        "id": "kN_bkut_4ayL",
        "outputId": "7ba0fdb3-b498-410e-940c-571ee53d8895"
      },
      "outputs": [
        {
          "name": "stdout",
          "output_type": "stream",
          "text": [
            "<class 'google.api_core.exceptions.NotFound'>: 404 Tuned model tunedModels/generate-num-4668 does not exist.\n"
          ]
        }
      ],
      "source": [
        "#palm.delete_tuned_model(f'tunedModels/{name}')\n",
        "\n",
        "#try:\n",
        "#  m = palm.get_tuned_model(f'tunedModels/{name}')\n",
        "#  print(m)\n",
        "#except Exception as e:\n",
        "#  print(f\"{type(e)}: {e}\")"
      ]
    }
  ],
  "metadata": {
    "colab": {
      "name": "tuning_quickstart_python.ipynb",
      "provenance": []
    },
    "kernelspec": {
      "display_name": "Python 3",
      "name": "python3"
    },
    "widgets": {
      "application/vnd.jupyter.widget-state+json": {
        "0c6be849f1de4e639056f4780fa74a24": {
          "model_module": "@jupyter-widgets/controls",
          "model_name": "HBoxModel",
          "model_module_version": "1.5.0",
          "state": {
            "_dom_classes": [],
            "_model_module": "@jupyter-widgets/controls",
            "_model_module_version": "1.5.0",
            "_model_name": "HBoxModel",
            "_view_count": null,
            "_view_module": "@jupyter-widgets/controls",
            "_view_module_version": "1.5.0",
            "_view_name": "HBoxView",
            "box_style": "",
            "children": [
              "IPY_MODEL_7b7ada733a864987a82809f0eb316699",
              "IPY_MODEL_7f5d83f9f2aa49f79c35af9a1e0fd688",
              "IPY_MODEL_d96fd494eff4429583cf5f19d55e1647"
            ],
            "layout": "IPY_MODEL_5652d6892ec546049da556355c3f2ae6"
          }
        },
        "7b7ada733a864987a82809f0eb316699": {
          "model_module": "@jupyter-widgets/controls",
          "model_name": "HTMLModel",
          "model_module_version": "1.5.0",
          "state": {
            "_dom_classes": [],
            "_model_module": "@jupyter-widgets/controls",
            "_model_module_version": "1.5.0",
            "_model_name": "HTMLModel",
            "_view_count": null,
            "_view_module": "@jupyter-widgets/controls",
            "_view_module_version": "1.5.0",
            "_view_name": "HTMLView",
            "description": "",
            "description_tooltip": null,
            "layout": "IPY_MODEL_e783638cd63548d3bca08385aab242fc",
            "placeholder": "​",
            "style": "IPY_MODEL_89b1d1938f934c0cabe39720ecd321bf",
            "value": "100%"
          }
        },
        "7f5d83f9f2aa49f79c35af9a1e0fd688": {
          "model_module": "@jupyter-widgets/controls",
          "model_name": "FloatProgressModel",
          "model_module_version": "1.5.0",
          "state": {
            "_dom_classes": [],
            "_model_module": "@jupyter-widgets/controls",
            "_model_module_version": "1.5.0",
            "_model_name": "FloatProgressModel",
            "_view_count": null,
            "_view_module": "@jupyter-widgets/controls",
            "_view_module_version": "1.5.0",
            "_view_name": "ProgressView",
            "bar_style": "success",
            "description": "",
            "description_tooltip": null,
            "layout": "IPY_MODEL_288511cf102541088e69139b6257d61b",
            "max": 675,
            "min": 0,
            "orientation": "horizontal",
            "style": "IPY_MODEL_9b881256deea4fa9be64b8cf927456f2",
            "value": 675
          }
        },
        "d96fd494eff4429583cf5f19d55e1647": {
          "model_module": "@jupyter-widgets/controls",
          "model_name": "HTMLModel",
          "model_module_version": "1.5.0",
          "state": {
            "_dom_classes": [],
            "_model_module": "@jupyter-widgets/controls",
            "_model_module_version": "1.5.0",
            "_model_name": "HTMLModel",
            "_view_count": null,
            "_view_module": "@jupyter-widgets/controls",
            "_view_module_version": "1.5.0",
            "_view_name": "HTMLView",
            "description": "",
            "description_tooltip": null,
            "layout": "IPY_MODEL_a78976263621412a9e61dec111abeea7",
            "placeholder": "​",
            "style": "IPY_MODEL_e327d8fdceba440dafdc51f9950ca661",
            "value": " 675/675 [16:25&lt;00:00,  1.37s/it]"
          }
        },
        "5652d6892ec546049da556355c3f2ae6": {
          "model_module": "@jupyter-widgets/base",
          "model_name": "LayoutModel",
          "model_module_version": "1.2.0",
          "state": {
            "_model_module": "@jupyter-widgets/base",
            "_model_module_version": "1.2.0",
            "_model_name": "LayoutModel",
            "_view_count": null,
            "_view_module": "@jupyter-widgets/base",
            "_view_module_version": "1.2.0",
            "_view_name": "LayoutView",
            "align_content": null,
            "align_items": null,
            "align_self": null,
            "border": null,
            "bottom": null,
            "display": null,
            "flex": null,
            "flex_flow": null,
            "grid_area": null,
            "grid_auto_columns": null,
            "grid_auto_flow": null,
            "grid_auto_rows": null,
            "grid_column": null,
            "grid_gap": null,
            "grid_row": null,
            "grid_template_areas": null,
            "grid_template_columns": null,
            "grid_template_rows": null,
            "height": null,
            "justify_content": null,
            "justify_items": null,
            "left": null,
            "margin": null,
            "max_height": null,
            "max_width": null,
            "min_height": null,
            "min_width": null,
            "object_fit": null,
            "object_position": null,
            "order": null,
            "overflow": null,
            "overflow_x": null,
            "overflow_y": null,
            "padding": null,
            "right": null,
            "top": null,
            "visibility": null,
            "width": null
          }
        },
        "e783638cd63548d3bca08385aab242fc": {
          "model_module": "@jupyter-widgets/base",
          "model_name": "LayoutModel",
          "model_module_version": "1.2.0",
          "state": {
            "_model_module": "@jupyter-widgets/base",
            "_model_module_version": "1.2.0",
            "_model_name": "LayoutModel",
            "_view_count": null,
            "_view_module": "@jupyter-widgets/base",
            "_view_module_version": "1.2.0",
            "_view_name": "LayoutView",
            "align_content": null,
            "align_items": null,
            "align_self": null,
            "border": null,
            "bottom": null,
            "display": null,
            "flex": null,
            "flex_flow": null,
            "grid_area": null,
            "grid_auto_columns": null,
            "grid_auto_flow": null,
            "grid_auto_rows": null,
            "grid_column": null,
            "grid_gap": null,
            "grid_row": null,
            "grid_template_areas": null,
            "grid_template_columns": null,
            "grid_template_rows": null,
            "height": null,
            "justify_content": null,
            "justify_items": null,
            "left": null,
            "margin": null,
            "max_height": null,
            "max_width": null,
            "min_height": null,
            "min_width": null,
            "object_fit": null,
            "object_position": null,
            "order": null,
            "overflow": null,
            "overflow_x": null,
            "overflow_y": null,
            "padding": null,
            "right": null,
            "top": null,
            "visibility": null,
            "width": null
          }
        },
        "89b1d1938f934c0cabe39720ecd321bf": {
          "model_module": "@jupyter-widgets/controls",
          "model_name": "DescriptionStyleModel",
          "model_module_version": "1.5.0",
          "state": {
            "_model_module": "@jupyter-widgets/controls",
            "_model_module_version": "1.5.0",
            "_model_name": "DescriptionStyleModel",
            "_view_count": null,
            "_view_module": "@jupyter-widgets/base",
            "_view_module_version": "1.2.0",
            "_view_name": "StyleView",
            "description_width": ""
          }
        },
        "288511cf102541088e69139b6257d61b": {
          "model_module": "@jupyter-widgets/base",
          "model_name": "LayoutModel",
          "model_module_version": "1.2.0",
          "state": {
            "_model_module": "@jupyter-widgets/base",
            "_model_module_version": "1.2.0",
            "_model_name": "LayoutModel",
            "_view_count": null,
            "_view_module": "@jupyter-widgets/base",
            "_view_module_version": "1.2.0",
            "_view_name": "LayoutView",
            "align_content": null,
            "align_items": null,
            "align_self": null,
            "border": null,
            "bottom": null,
            "display": null,
            "flex": null,
            "flex_flow": null,
            "grid_area": null,
            "grid_auto_columns": null,
            "grid_auto_flow": null,
            "grid_auto_rows": null,
            "grid_column": null,
            "grid_gap": null,
            "grid_row": null,
            "grid_template_areas": null,
            "grid_template_columns": null,
            "grid_template_rows": null,
            "height": null,
            "justify_content": null,
            "justify_items": null,
            "left": null,
            "margin": null,
            "max_height": null,
            "max_width": null,
            "min_height": null,
            "min_width": null,
            "object_fit": null,
            "object_position": null,
            "order": null,
            "overflow": null,
            "overflow_x": null,
            "overflow_y": null,
            "padding": null,
            "right": null,
            "top": null,
            "visibility": null,
            "width": null
          }
        },
        "9b881256deea4fa9be64b8cf927456f2": {
          "model_module": "@jupyter-widgets/controls",
          "model_name": "ProgressStyleModel",
          "model_module_version": "1.5.0",
          "state": {
            "_model_module": "@jupyter-widgets/controls",
            "_model_module_version": "1.5.0",
            "_model_name": "ProgressStyleModel",
            "_view_count": null,
            "_view_module": "@jupyter-widgets/base",
            "_view_module_version": "1.2.0",
            "_view_name": "StyleView",
            "bar_color": null,
            "description_width": ""
          }
        },
        "a78976263621412a9e61dec111abeea7": {
          "model_module": "@jupyter-widgets/base",
          "model_name": "LayoutModel",
          "model_module_version": "1.2.0",
          "state": {
            "_model_module": "@jupyter-widgets/base",
            "_model_module_version": "1.2.0",
            "_model_name": "LayoutModel",
            "_view_count": null,
            "_view_module": "@jupyter-widgets/base",
            "_view_module_version": "1.2.0",
            "_view_name": "LayoutView",
            "align_content": null,
            "align_items": null,
            "align_self": null,
            "border": null,
            "bottom": null,
            "display": null,
            "flex": null,
            "flex_flow": null,
            "grid_area": null,
            "grid_auto_columns": null,
            "grid_auto_flow": null,
            "grid_auto_rows": null,
            "grid_column": null,
            "grid_gap": null,
            "grid_row": null,
            "grid_template_areas": null,
            "grid_template_columns": null,
            "grid_template_rows": null,
            "height": null,
            "justify_content": null,
            "justify_items": null,
            "left": null,
            "margin": null,
            "max_height": null,
            "max_width": null,
            "min_height": null,
            "min_width": null,
            "object_fit": null,
            "object_position": null,
            "order": null,
            "overflow": null,
            "overflow_x": null,
            "overflow_y": null,
            "padding": null,
            "right": null,
            "top": null,
            "visibility": null,
            "width": null
          }
        },
        "e327d8fdceba440dafdc51f9950ca661": {
          "model_module": "@jupyter-widgets/controls",
          "model_name": "DescriptionStyleModel",
          "model_module_version": "1.5.0",
          "state": {
            "_model_module": "@jupyter-widgets/controls",
            "_model_module_version": "1.5.0",
            "_model_name": "DescriptionStyleModel",
            "_view_count": null,
            "_view_module": "@jupyter-widgets/base",
            "_view_module_version": "1.2.0",
            "_view_name": "StyleView",
            "description_width": ""
          }
        }
      }
    }
  },
  "nbformat": 4,
  "nbformat_minor": 0
}